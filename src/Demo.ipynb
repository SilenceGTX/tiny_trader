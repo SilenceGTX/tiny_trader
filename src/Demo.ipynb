{
 "cells": [
  {
   "cell_type": "code",
   "execution_count": 38,
   "metadata": {},
   "outputs": [
    {
     "name": "stdout",
     "output_type": "stream",
     "text": [
      "The autoreload extension is already loaded. To reload it, use:\n",
      "  %reload_ext autoreload\n"
     ]
    }
   ],
   "source": [
    "%load_ext autoreload\n",
    "%autoreload 2\n",
    "import source as sc\n",
    "from sig import Signal\n",
    "from strategy import Strategy\n",
    "\n",
    "import pandas as pd"
   ]
  },
  {
   "cell_type": "markdown",
   "metadata": {},
   "source": [
    "## 获取历史K线"
   ]
  },
  {
   "cell_type": "code",
   "execution_count": 3,
   "metadata": {},
   "outputs": [],
   "source": [
    "df = sc.get_ts_stock_data('SZ000001', '20210101')"
   ]
  },
  {
   "cell_type": "markdown",
   "metadata": {},
   "source": [
    "## 定义交易信号"
   ]
  },
  {
   "cell_type": "markdown",
   "metadata": {},
   "source": [
    "#### 买入"
   ]
  },
  {
   "cell_type": "code",
   "execution_count": 4,
   "metadata": {},
   "outputs": [],
   "source": [
    "class LongSig(Signal):\n",
    "    def evaluate(self):\n",
    "        \"\"\"昨天涨就买\"\"\"\n",
    "        if self._kline['change'].iloc[0] > 0:\n",
    "            return True\n",
    "        else:\n",
    "            return False"
   ]
  },
  {
   "cell_type": "markdown",
   "metadata": {},
   "source": [
    "#### 止盈"
   ]
  },
  {
   "cell_type": "code",
   "execution_count": 5,
   "metadata": {},
   "outputs": [],
   "source": [
    "class TpSig(Signal):\n",
    "    def evaluate(self):\n",
    "        \"\"\"昨天跌就卖\"\"\"\n",
    "        if self._kline['change'].iloc[0] < 0:\n",
    "            return True\n",
    "        else:\n",
    "            return False"
   ]
  },
  {
   "cell_type": "markdown",
   "metadata": {},
   "source": [
    "#### 止损"
   ]
  },
  {
   "cell_type": "code",
   "execution_count": 6,
   "metadata": {},
   "outputs": [],
   "source": [
    "class LsSig(Signal):\n",
    "    def evaluate(self):\n",
    "        \"\"\"昨天跌就卖\"\"\"\n",
    "        if self._kline['change'].iloc[0] < 0:\n",
    "            return True\n",
    "        else:\n",
    "            return False"
   ]
  },
  {
   "cell_type": "markdown",
   "metadata": {},
   "source": [
    "## 指定策略"
   ]
  },
  {
   "cell_type": "code",
   "execution_count": 64,
   "metadata": {},
   "outputs": [],
   "source": [
    "s = Strategy(LongSig, TpSig)"
   ]
  },
  {
   "cell_type": "markdown",
   "metadata": {},
   "source": [
    "## 回测结果"
   ]
  },
  {
   "cell_type": "code",
   "execution_count": 65,
   "metadata": {},
   "outputs": [],
   "source": [
    "def back_test(kline, strategy, start_date=None, end_date=None):\n",
    "    \"\"\"\n",
    "    回测函数\n",
    "    \"\"\"\n",
    "    trade_ls = []\n",
    "    \n",
    "    if start_date is not None:\n",
    "        start_idx = kline.loc[kline['trade_date'] == start_date].index[0]\n",
    "    else:\n",
    "        start_idx = len(kline) - 1\n",
    "        \n",
    "    if end_date is not None:\n",
    "        end_idx = kline.loc[kline['trade_date'] == end_date].index[0]\n",
    "    else:\n",
    "        end_idx = 0\n",
    "    \n",
    "    for i in range(start_idx-1, end_idx-1, -1):\n",
    "        date = kline['trade_date'].iloc[i] # 第n天\n",
    "        today = kline.iloc[i]\n",
    "        hist = kline[i+1:] # 前n-1天的K线\n",
    "        \n",
    "        # 设置加仓/止盈/止损\n",
    "        strategy.open_setting(today['open'], 1)\n",
    "        strategy.take_profit_setting(today['open'])\n",
    "        \n",
    "        trade = {'date': date}\n",
    "        trade.update(strategy.run(hist))\n",
    "        trade.update({'date': date})\n",
    "        trade_ls.append(trade)\n",
    "    \n",
    "    return trade_ls"
   ]
  },
  {
   "cell_type": "code",
   "execution_count": 66,
   "metadata": {},
   "outputs": [],
   "source": [
    "res = back_test(df, s)"
   ]
  },
  {
   "cell_type": "code",
   "execution_count": 67,
   "metadata": {},
   "outputs": [
    {
     "data": {
      "text/html": [
       "<div>\n",
       "<style scoped>\n",
       "    .dataframe tbody tr th:only-of-type {\n",
       "        vertical-align: middle;\n",
       "    }\n",
       "\n",
       "    .dataframe tbody tr th {\n",
       "        vertical-align: top;\n",
       "    }\n",
       "\n",
       "    .dataframe thead th {\n",
       "        text-align: right;\n",
       "    }\n",
       "</style>\n",
       "<table border=\"1\" class=\"dataframe\">\n",
       "  <thead>\n",
       "    <tr style=\"text-align: right;\">\n",
       "      <th></th>\n",
       "      <th>date</th>\n",
       "      <th>operation</th>\n",
       "      <th>price</th>\n",
       "      <th>lot</th>\n",
       "      <th>position</th>\n",
       "    </tr>\n",
       "  </thead>\n",
       "  <tbody>\n",
       "    <tr>\n",
       "      <th>2</th>\n",
       "      <td>20210107</td>\n",
       "      <td>buy</td>\n",
       "      <td>19.52</td>\n",
       "      <td>1.0</td>\n",
       "      <td>1.0</td>\n",
       "    </tr>\n",
       "    <tr>\n",
       "      <th>3</th>\n",
       "      <td>20210108</td>\n",
       "      <td>buy</td>\n",
       "      <td>19.90</td>\n",
       "      <td>1.0</td>\n",
       "      <td>2.0</td>\n",
       "    </tr>\n",
       "    <tr>\n",
       "      <th>4</th>\n",
       "      <td>20210111</td>\n",
       "      <td>take_profit</td>\n",
       "      <td>20.00</td>\n",
       "      <td>-2.0</td>\n",
       "      <td>0.0</td>\n",
       "    </tr>\n",
       "    <tr>\n",
       "      <th>5</th>\n",
       "      <td>20210112</td>\n",
       "      <td>buy</td>\n",
       "      <td>20.39</td>\n",
       "      <td>1.0</td>\n",
       "      <td>1.0</td>\n",
       "    </tr>\n",
       "    <tr>\n",
       "      <th>6</th>\n",
       "      <td>20210113</td>\n",
       "      <td>buy</td>\n",
       "      <td>21.00</td>\n",
       "      <td>1.0</td>\n",
       "      <td>2.0</td>\n",
       "    </tr>\n",
       "    <tr>\n",
       "      <th>...</th>\n",
       "      <td>...</td>\n",
       "      <td>...</td>\n",
       "      <td>...</td>\n",
       "      <td>...</td>\n",
       "      <td>...</td>\n",
       "    </tr>\n",
       "    <tr>\n",
       "      <th>167</th>\n",
       "      <td>20210909</td>\n",
       "      <td>take_profit</td>\n",
       "      <td>19.11</td>\n",
       "      <td>-2.0</td>\n",
       "      <td>0.0</td>\n",
       "    </tr>\n",
       "    <tr>\n",
       "      <th>169</th>\n",
       "      <td>20210913</td>\n",
       "      <td>buy</td>\n",
       "      <td>20.36</td>\n",
       "      <td>1.0</td>\n",
       "      <td>1.0</td>\n",
       "    </tr>\n",
       "    <tr>\n",
       "      <th>170</th>\n",
       "      <td>20210914</td>\n",
       "      <td>take_profit</td>\n",
       "      <td>20.18</td>\n",
       "      <td>-1.0</td>\n",
       "      <td>0.0</td>\n",
       "    </tr>\n",
       "    <tr>\n",
       "      <th>172</th>\n",
       "      <td>20210916</td>\n",
       "      <td>buy</td>\n",
       "      <td>19.30</td>\n",
       "      <td>1.0</td>\n",
       "      <td>1.0</td>\n",
       "    </tr>\n",
       "    <tr>\n",
       "      <th>173</th>\n",
       "      <td>20210917</td>\n",
       "      <td>take_profit</td>\n",
       "      <td>18.90</td>\n",
       "      <td>-1.0</td>\n",
       "      <td>0.0</td>\n",
       "    </tr>\n",
       "  </tbody>\n",
       "</table>\n",
       "<p>118 rows × 5 columns</p>\n",
       "</div>"
      ],
      "text/plain": [
       "         date    operation  price  lot  position\n",
       "2    20210107          buy  19.52  1.0       1.0\n",
       "3    20210108          buy  19.90  1.0       2.0\n",
       "4    20210111  take_profit  20.00 -2.0       0.0\n",
       "5    20210112          buy  20.39  1.0       1.0\n",
       "6    20210113          buy  21.00  1.0       2.0\n",
       "..        ...          ...    ...  ...       ...\n",
       "167  20210909  take_profit  19.11 -2.0       0.0\n",
       "169  20210913          buy  20.36  1.0       1.0\n",
       "170  20210914  take_profit  20.18 -1.0       0.0\n",
       "172  20210916          buy  19.30  1.0       1.0\n",
       "173  20210917  take_profit  18.90 -1.0       0.0\n",
       "\n",
       "[118 rows x 5 columns]"
      ]
     },
     "execution_count": 67,
     "metadata": {},
     "output_type": "execute_result"
    }
   ],
   "source": [
    "res_df = pd.DataFrame(res).dropna()\n",
    "res_df"
   ]
  },
  {
   "cell_type": "code",
   "execution_count": 68,
   "metadata": {},
   "outputs": [
    {
     "data": {
      "text/plain": [
       "-0.6299999999999706"
      ]
     },
     "execution_count": 68,
     "metadata": {},
     "output_type": "execute_result"
    }
   ],
   "source": [
    "overall_profit = (-1 * res_df['price'] * res_df['lot']).sum()\n",
    "overall_profit"
   ]
  },
  {
   "cell_type": "code",
   "execution_count": null,
   "metadata": {},
   "outputs": [],
   "source": []
  }
 ],
 "metadata": {
  "kernelspec": {
   "display_name": "Python 3",
   "language": "python",
   "name": "python3"
  }
 },
 "nbformat": 4,
 "nbformat_minor": 2
}
